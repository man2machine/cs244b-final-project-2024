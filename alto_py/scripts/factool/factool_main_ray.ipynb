{
 "cells": [
  {
   "cell_type": "code",
   "execution_count": null,
   "metadata": {},
   "outputs": [],
   "source": [
    "import os\n",
    "\n",
    "from alto_lib.core.manager.ray_impl import RayStageManager\n",
    "from alto_lib.apps.factool.setup import setup_factool_app"
   ]
  },
  {
   "cell_type": "code",
   "execution_count": null,
   "metadata": {},
   "outputs": [],
   "source": [
    "model_serving_data_path = os.environ[\"MODEL_SERVING_DATA_PATH\"]\n",
    "\n",
    "manager = RayStageManager(num_cpus=64, num_gpus=8)\n",
    "setup_factool_app(\n",
    "    manager=manager,\n",
    "    model_serving_data_path=model_serving_data_path,\n",
    "    control_address=('localhost', 8001),\n",
    "    request_recv_address=('localhost', 8002),\n",
    "    response_send_address=('localhost', 8003)\n",
    ")"
   ]
  },
  {
   "cell_type": "code",
   "execution_count": null,
   "metadata": {},
   "outputs": [],
   "source": [
    "manager.initialize()"
   ]
  },
  {
   "cell_type": "code",
   "execution_count": null,
   "metadata": {},
   "outputs": [],
   "source": [
    "manager.run_all_stages()"
   ]
  },
  {
   "cell_type": "code",
   "execution_count": null,
   "metadata": {},
   "outputs": [],
   "source": []
  }
 ],
 "metadata": {
  "kernelspec": {
   "display_name": "rot-proj",
   "language": "python",
   "name": "python3"
  },
  "language_info": {
   "codemirror_mode": {
    "name": "ipython",
    "version": 3
   },
   "file_extension": ".py",
   "mimetype": "text/x-python",
   "name": "python",
   "nbconvert_exporter": "python",
   "pygments_lexer": "ipython3",
   "version": "3.11.8"
  }
 },
 "nbformat": 4,
 "nbformat_minor": 2
}
