{
 "cells": [
  {
   "cell_type": "code",
   "execution_count": null,
   "metadata": {},
   "outputs": [],
   "source": [
    "import os\n",
    "\n",
    "from alto_lib.utils import get_rel_pkg_path, get_timestamp_str\n",
    "from alto_lib.apps.factool.client import FactoolClientNode"
   ]
  },
  {
   "cell_type": "code",
   "execution_count": null,
   "metadata": {},
   "outputs": [],
   "source": [
    "model_serving_data_path = os.environ[\"MODEL_SERVING_DATA_PATH\"]\n",
    "\n",
    "rate = 10\n",
    "\n",
    "client_node = FactoolClientNode(\n",
    "    model_serving_data_path=model_serving_data_path,\n",
    "    control_address=('localhost', 8001),\n",
    "    request_send_address=('localhost', 8002),\n",
    "    response_recv_address=('localhost', 8003),\n",
    "    name=\"Factool Client Node\",\n",
    "    log_fname=get_rel_pkg_path(\"logs/client_out_rate_{}_possion_{}.json\".format(rate, get_timestamp_str())),\n",
    "    rate=rate\n",
    ")"
   ]
  },
  {
   "cell_type": "code",
   "execution_count": null,
   "metadata": {},
   "outputs": [],
   "source": [
    "client_node.initialize()"
   ]
  },
  {
   "cell_type": "code",
   "execution_count": null,
   "metadata": {},
   "outputs": [],
   "source": [
    "client_node.run()"
   ]
  },
  {
   "cell_type": "code",
   "execution_count": null,
   "metadata": {},
   "outputs": [],
   "source": []
  }
 ],
 "metadata": {
  "kernelspec": {
   "display_name": "rot-proj",
   "language": "python",
   "name": "python3"
  },
  "language_info": {
   "codemirror_mode": {
    "name": "ipython",
    "version": 3
   },
   "file_extension": ".py",
   "mimetype": "text/x-python",
   "name": "python",
   "nbconvert_exporter": "python",
   "pygments_lexer": "ipython3",
   "version": "3.11.8"
  }
 },
 "nbformat": 4,
 "nbformat_minor": 2
}
